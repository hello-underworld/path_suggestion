{
 "cells": [
  {
   "cell_type": "code",
   "execution_count": 4,
   "metadata": {},
   "outputs": [],
   "source": [
    "import Pathfinder\n",
    "from importlib import reload\n",
    "reload(Pathfinder)\n",
    "from Pathfinder import Pathfinder"
   ]
  },
  {
   "cell_type": "code",
   "execution_count": 5,
   "metadata": {},
   "outputs": [],
   "source": [
    "path = Pathfinder.from_file('V4Cr4O12_original.vasp')"
   ]
  },
  {
   "cell_type": "code",
   "execution_count": 6,
   "metadata": {},
   "outputs": [
    {
     "data": {
      "text/plain": [
       "[[[0, 0, 0, 3], [0, 0, 0, 0], [1, 0, 0, 3]],\n",
       " [[0, 0, 0, 3], [0, 0, 0, 1], [1, 0, 0, 3]],\n",
       " [[0, 0, 0, 3], [0, 1, 0, 1], [1, 1, 0, 3], [0, 0, 0, 0], [1, 0, 0, 3]],\n",
       " [[0, 0, 0, 3], [0, 1, 0, 1], [1, 1, 0, 3], [1, 1, 0, 1], [1, 0, 0, 3]],\n",
       " [[0, 0, 0, 3], [0, 1, 0, 1], [1, 1, 0, 2], [0, 0, 0, 1], [1, 0, 0, 3]],\n",
       " [[0, 0, 0, 3], [0, 1, 0, 1], [1, 1, 0, 2], [1, 1, 0, 1], [1, 0, 0, 3]],\n",
       " [[0, 0, 0, 3], [0, 0, 0, 0], [0, 0, 1, 2], [0, -1, 0, 0], [1, 0, 0, 3]],\n",
       " [[0, 0, 0, 3], [0, 0, 0, 0], [1, 1, 0, 3], [1, 1, 0, 1], [1, 0, 0, 3]],\n",
       " [[0, 0, 0, 3], [0, 0, 0, 0], [1, 1, 1, 2], [1, 0, 0, 0], [1, 0, 0, 3]],\n",
       " [[0, 0, 0, 3], [0, 0, 0, 1], [0, -1, 0, 3], [0, -1, 0, 0], [1, 0, 0, 3]],\n",
       " [[0, 0, 0, 3], [0, 0, 0, 1], [1, 1, 0, 2], [1, 1, 0, 1], [1, 0, 0, 3]],\n",
       " [[0, 0, 0, 3], [0, 0, 0, 1], [1, 0, 0, 2], [1, 0, 0, 1], [1, 0, 0, 3]]]"
      ]
     },
     "execution_count": 6,
     "metadata": {},
     "output_type": "execute_result"
    }
   ],
   "source": [
    "path.paths_in_index(direction=0,site_index=3)"
   ]
  },
  {
   "cell_type": "code",
   "execution_count": null,
   "metadata": {},
   "outputs": [],
   "source": [
    "path.partially_li_struct(2)"
   ]
  }
 ],
 "metadata": {
  "kernelspec": {
   "display_name": "Python 3",
   "language": "python",
   "name": "python3"
  },
  "language_info": {
   "codemirror_mode": {
    "name": "ipython",
    "version": 3
   },
   "file_extension": ".py",
   "mimetype": "text/x-python",
   "name": "python",
   "nbconvert_exporter": "python",
   "pygments_lexer": "ipython3",
   "version": "3.6.6"
  }
 },
 "nbformat": 4,
 "nbformat_minor": 2
}
