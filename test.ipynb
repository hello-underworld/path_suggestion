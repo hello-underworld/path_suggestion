{
 "cells": [
  {
   "cell_type": "code",
   "execution_count": 1,
   "metadata": {},
   "outputs": [],
   "source": [
    "from Pathfinder import Pathfinder"
   ]
  },
  {
   "cell_type": "code",
   "execution_count": 2,
   "metadata": {},
   "outputs": [],
   "source": [
    "path = Pathfinder.from_file('V4Cr4O12_original.vasp')"
   ]
  },
  {
   "cell_type": "code",
   "execution_count": 3,
   "metadata": {},
   "outputs": [],
   "source": [
    "path.li_struct_to(fmt='POSCAR',filename='')"
   ]
  },
  {
   "cell_type": "code",
   "execution_count": 4,
   "metadata": {},
   "outputs": [
    {
     "data": {
      "text/plain": [
       "[[[0, 0, 0, 3], [0, 0, 0, 0], [1, 0, 0, 3]],\n",
       " [[0, 0, 0, 3], [0, 0, 0, 1], [1, 0, 0, 3]],\n",
       " [[0, 0, 0, 3], [0, 1, 0, 1], [1, 1, 0, 3], [0, 0, 0, 0], [1, 0, 0, 3]],\n",
       " [[0, 0, 0, 3], [0, 1, 0, 1], [1, 1, 0, 3], [1, 1, 0, 1], [1, 0, 0, 3]],\n",
       " [[0, 0, 0, 3], [0, 1, 0, 1], [1, 1, 0, 2], [0, 0, 0, 1], [1, 0, 0, 3]],\n",
       " [[0, 0, 0, 3], [0, 1, 0, 1], [1, 1, 0, 2], [1, 1, 0, 1], [1, 0, 0, 3]],\n",
       " [[0, 0, 0, 3], [0, 0, 0, 0], [0, 0, 1, 2], [0, -1, 0, 0], [1, 0, 0, 3]],\n",
       " [[0, 0, 0, 3], [0, 0, 0, 0], [1, 1, 0, 3], [1, 1, 0, 1], [1, 0, 0, 3]],\n",
       " [[0, 0, 0, 3], [0, 0, 0, 0], [1, 1, 1, 2], [1, 0, 0, 0], [1, 0, 0, 3]],\n",
       " [[0, 0, 0, 3], [0, 0, 0, 1], [0, -1, 0, 3], [0, -1, 0, 0], [1, 0, 0, 3]],\n",
       " [[0, 0, 0, 3], [0, 0, 0, 1], [1, 1, 0, 2], [1, 1, 0, 1], [1, 0, 0, 3]],\n",
       " [[0, 0, 0, 3], [0, 0, 0, 1], [1, 0, 0, 2], [1, 0, 0, 1], [1, 0, 0, 3]]]"
      ]
     },
     "execution_count": 4,
     "metadata": {},
     "output_type": "execute_result"
    }
   ],
   "source": [
    "path.paths_in_index(direction=0,site_index=3)"
   ]
  },
  {
   "cell_type": "code",
   "execution_count": 5,
   "metadata": {},
   "outputs": [],
   "source": [
    "from pymatgen.analysis.path_finder import NEBPathfinder"
   ]
  },
  {
   "cell_type": "code",
   "execution_count": 14,
   "metadata": {},
   "outputs": [
    {
     "ename": "TypeError",
     "evalue": "string indices must be integers",
     "output_type": "error",
     "traceback": [
      "\u001b[0;31m---------------------------------------------------------------------------\u001b[0m",
      "\u001b[0;31mTypeError\u001b[0m                                 Traceback (most recent call last)",
      "\u001b[0;32m<ipython-input-14-8b7d8b6ae0b9>\u001b[0m in \u001b[0;36m<module>\u001b[0;34m()\u001b[0m\n\u001b[0;32m----> 1\u001b[0;31m \u001b[0mpath\u001b[0m\u001b[0;34m.\u001b[0m\u001b[0mpartially_li_struct\u001b[0m\u001b[0;34m(\u001b[0m\u001b[0;36m0\u001b[0m\u001b[0;34m)\u001b[0m\u001b[0;34m\u001b[0m\u001b[0m\n\u001b[0m",
      "\u001b[0;32m~/Desktop/path_suggestion/Pathfinder.py\u001b[0m in \u001b[0;36mpartially_li_struct\u001b[0;34m(self, index_numbers)\u001b[0m\n\u001b[1;32m     85\u001b[0m         \u001b[0minserts\u001b[0m \u001b[0;34m=\u001b[0m \u001b[0mself\u001b[0m\u001b[0;34m.\u001b[0m\u001b[0monly_li_struct\u001b[0m\u001b[0;34m.\u001b[0m\u001b[0mas_dict\u001b[0m\u001b[0;34m(\u001b[0m\u001b[0;34m)\u001b[0m\u001b[0;34m[\u001b[0m\u001b[0;34m'sites'\u001b[0m\u001b[0;34m]\u001b[0m\u001b[0;34m[\u001b[0m\u001b[0;36m0\u001b[0m\u001b[0;34m]\u001b[0m\u001b[0;34m\u001b[0m\u001b[0m\n\u001b[1;32m     86\u001b[0m         \u001b[0mstruct\u001b[0m\u001b[0;34m[\u001b[0m\u001b[0;34m'sites'\u001b[0m\u001b[0;34m]\u001b[0m\u001b[0;34m.\u001b[0m\u001b[0mappend\u001b[0m\u001b[0;34m(\u001b[0m\u001b[0minserts\u001b[0m\u001b[0;34m)\u001b[0m\u001b[0;34m\u001b[0m\u001b[0m\n\u001b[0;32m---> 87\u001b[0;31m         \u001b[0;32mreturn\u001b[0m \u001b[0mStructure\u001b[0m\u001b[0;34m.\u001b[0m\u001b[0mfrom_dict\u001b[0m\u001b[0;34m(\u001b[0m\u001b[0mstruct\u001b[0m\u001b[0;34m)\u001b[0m\u001b[0;34m\u001b[0m\u001b[0m\n\u001b[0m\u001b[1;32m     88\u001b[0m \u001b[0;34m\u001b[0m\u001b[0m\n\u001b[1;32m     89\u001b[0m     \u001b[0;32mdef\u001b[0m \u001b[0mdict_info_nn\u001b[0m\u001b[0;34m(\u001b[0m\u001b[0mself\u001b[0m\u001b[0;34m,\u001b[0m\u001b[0monly_li_struct\u001b[0m\u001b[0;34m=\u001b[0m\u001b[0;32mNone\u001b[0m\u001b[0;34m,\u001b[0m\u001b[0mcutoff_r\u001b[0m\u001b[0;34m=\u001b[0m\u001b[0;36m5\u001b[0m\u001b[0;34m)\u001b[0m\u001b[0;34m:\u001b[0m\u001b[0;34m\u001b[0m\u001b[0m\n",
      "\u001b[0;32m~/uw/pymatgen/pymatgen/core/structure.py\u001b[0m in \u001b[0;36mfrom_dict\u001b[0;34m(cls, d, fmt)\u001b[0m\n\u001b[1;32m   1496\u001b[0m \u001b[0;34m\u001b[0m\u001b[0m\n\u001b[1;32m   1497\u001b[0m         \u001b[0mlattice\u001b[0m \u001b[0;34m=\u001b[0m \u001b[0mLattice\u001b[0m\u001b[0;34m.\u001b[0m\u001b[0mfrom_dict\u001b[0m\u001b[0;34m(\u001b[0m\u001b[0md\u001b[0m\u001b[0;34m[\u001b[0m\u001b[0;34m\"lattice\"\u001b[0m\u001b[0;34m]\u001b[0m\u001b[0;34m)\u001b[0m\u001b[0;34m\u001b[0m\u001b[0m\n\u001b[0;32m-> 1498\u001b[0;31m         \u001b[0msites\u001b[0m \u001b[0;34m=\u001b[0m \u001b[0;34m[\u001b[0m\u001b[0mPeriodicSite\u001b[0m\u001b[0;34m.\u001b[0m\u001b[0mfrom_dict\u001b[0m\u001b[0;34m(\u001b[0m\u001b[0msd\u001b[0m\u001b[0;34m,\u001b[0m \u001b[0mlattice\u001b[0m\u001b[0;34m)\u001b[0m \u001b[0;32mfor\u001b[0m \u001b[0msd\u001b[0m \u001b[0;32min\u001b[0m \u001b[0md\u001b[0m\u001b[0;34m[\u001b[0m\u001b[0;34m\"sites\"\u001b[0m\u001b[0;34m]\u001b[0m\u001b[0;34m]\u001b[0m\u001b[0;34m\u001b[0m\u001b[0m\n\u001b[0m\u001b[1;32m   1499\u001b[0m         \u001b[0mcharge\u001b[0m \u001b[0;34m=\u001b[0m \u001b[0md\u001b[0m\u001b[0;34m.\u001b[0m\u001b[0mget\u001b[0m\u001b[0;34m(\u001b[0m\u001b[0;34m\"charge\"\u001b[0m\u001b[0;34m,\u001b[0m \u001b[0;32mNone\u001b[0m\u001b[0;34m)\u001b[0m\u001b[0;34m\u001b[0m\u001b[0m\n\u001b[1;32m   1500\u001b[0m         \u001b[0;32mreturn\u001b[0m \u001b[0mcls\u001b[0m\u001b[0;34m.\u001b[0m\u001b[0mfrom_sites\u001b[0m\u001b[0;34m(\u001b[0m\u001b[0msites\u001b[0m\u001b[0;34m,\u001b[0m \u001b[0mcharge\u001b[0m\u001b[0;34m=\u001b[0m\u001b[0mcharge\u001b[0m\u001b[0;34m)\u001b[0m\u001b[0;34m\u001b[0m\u001b[0m\n",
      "\u001b[0;32m~/uw/pymatgen/pymatgen/core/structure.py\u001b[0m in \u001b[0;36m<listcomp>\u001b[0;34m(.0)\u001b[0m\n\u001b[1;32m   1496\u001b[0m \u001b[0;34m\u001b[0m\u001b[0m\n\u001b[1;32m   1497\u001b[0m         \u001b[0mlattice\u001b[0m \u001b[0;34m=\u001b[0m \u001b[0mLattice\u001b[0m\u001b[0;34m.\u001b[0m\u001b[0mfrom_dict\u001b[0m\u001b[0;34m(\u001b[0m\u001b[0md\u001b[0m\u001b[0;34m[\u001b[0m\u001b[0;34m\"lattice\"\u001b[0m\u001b[0;34m]\u001b[0m\u001b[0;34m)\u001b[0m\u001b[0;34m\u001b[0m\u001b[0m\n\u001b[0;32m-> 1498\u001b[0;31m         \u001b[0msites\u001b[0m \u001b[0;34m=\u001b[0m \u001b[0;34m[\u001b[0m\u001b[0mPeriodicSite\u001b[0m\u001b[0;34m.\u001b[0m\u001b[0mfrom_dict\u001b[0m\u001b[0;34m(\u001b[0m\u001b[0msd\u001b[0m\u001b[0;34m,\u001b[0m \u001b[0mlattice\u001b[0m\u001b[0;34m)\u001b[0m \u001b[0;32mfor\u001b[0m \u001b[0msd\u001b[0m \u001b[0;32min\u001b[0m \u001b[0md\u001b[0m\u001b[0;34m[\u001b[0m\u001b[0;34m\"sites\"\u001b[0m\u001b[0;34m]\u001b[0m\u001b[0;34m]\u001b[0m\u001b[0;34m\u001b[0m\u001b[0m\n\u001b[0m\u001b[1;32m   1499\u001b[0m         \u001b[0mcharge\u001b[0m \u001b[0;34m=\u001b[0m \u001b[0md\u001b[0m\u001b[0;34m.\u001b[0m\u001b[0mget\u001b[0m\u001b[0;34m(\u001b[0m\u001b[0;34m\"charge\"\u001b[0m\u001b[0;34m,\u001b[0m \u001b[0;32mNone\u001b[0m\u001b[0;34m)\u001b[0m\u001b[0;34m\u001b[0m\u001b[0m\n\u001b[1;32m   1500\u001b[0m         \u001b[0;32mreturn\u001b[0m \u001b[0mcls\u001b[0m\u001b[0;34m.\u001b[0m\u001b[0mfrom_sites\u001b[0m\u001b[0;34m(\u001b[0m\u001b[0msites\u001b[0m\u001b[0;34m,\u001b[0m \u001b[0mcharge\u001b[0m\u001b[0;34m=\u001b[0m\u001b[0mcharge\u001b[0m\u001b[0;34m)\u001b[0m\u001b[0;34m\u001b[0m\u001b[0m\n",
      "\u001b[0;32m~/uw/pymatgen/pymatgen/core/sites.py\u001b[0m in \u001b[0;36mfrom_dict\u001b[0;34m(cls, d, lattice)\u001b[0m\n\u001b[1;32m    524\u001b[0m         \"\"\"\n\u001b[1;32m    525\u001b[0m         \u001b[0matoms_n_occu\u001b[0m \u001b[0;34m=\u001b[0m \u001b[0;34m{\u001b[0m\u001b[0;34m}\u001b[0m\u001b[0;34m\u001b[0m\u001b[0m\n\u001b[0;32m--> 526\u001b[0;31m         \u001b[0;32mfor\u001b[0m \u001b[0msp_occu\u001b[0m \u001b[0;32min\u001b[0m \u001b[0md\u001b[0m\u001b[0;34m[\u001b[0m\u001b[0;34m\"species\"\u001b[0m\u001b[0;34m]\u001b[0m\u001b[0;34m:\u001b[0m\u001b[0;34m\u001b[0m\u001b[0m\n\u001b[0m\u001b[1;32m    527\u001b[0m             if \"oxidation_state\" in sp_occu and Element.is_valid_symbol(\n\u001b[1;32m    528\u001b[0m                     sp_occu[\"element\"]):\n",
      "\u001b[0;31mTypeError\u001b[0m: string indices must be integers"
     ]
    }
   ],
   "source": [
    "path.partially_li_struct(0)"
   ]
  },
  {
   "cell_type": "code",
   "execution_count": 12,
   "metadata": {},
   "outputs": [],
   "source": [
    "from pymatgen.core.structure import Structure\n",
    "struct = path.cc.structure.as_dict()\n",
    "inserts = path.only_li_struct.as_dict()['sites'][0]\n",
    "struct['sites'].append(inserts)\n",
    "a = Structure.from_dict(struct)"
   ]
  },
  {
   "cell_type": "code",
   "execution_count": 13,
   "metadata": {},
   "outputs": [
    {
     "data": {
      "text/plain": [
       "Structure Summary\n",
       "Lattice\n",
       "    abc : 5.127565544944111 5.509230802136628 9.084233238421447\n",
       " angles : 85.16572514974095 73.69654640882412 117.75905533426705\n",
       " volume : 210.8546691913297\n",
       "      A : 5.127564 0.003331 -0.002179\n",
       "      B : -2.564929 1.470579 4.648673\n",
       "      C : 2.556934 -7.372842 4.650439\n",
       "PeriodicSite: V (-0.0155, -2.9537, 6.7282) [0.1468, 0.8725, 0.5747]\n",
       "PeriodicSite: V (0.0159, -0.0050, 2.0714) [0.1514, 0.3709, 0.0747]\n",
       "PeriodicSite: V (0.0105, 0.0082, 4.8884) [0.3542, 0.8776, 0.1741]\n",
       "PeriodicSite: V (5.1217, -2.9510, 2.5794) [0.8507, 0.1288, 0.4263]\n",
       "PeriodicSite: Cr (2.5539, -4.4329, 4.8649) [0.3469, 0.3710, 0.6754]\n",
       "PeriodicSite: Cr (2.5669, -1.4662, 4.4335) [0.6535, 0.6292, 0.3247]\n",
       "PeriodicSite: Cr (5.1190, -5.9015, 4.4304) [0.6499, 0.1270, 0.8261]\n",
       "PeriodicSite: Cr (5.1262, -5.8959, 7.1972) [0.8508, 0.6238, 0.9245]\n",
       "PeriodicSite: O (0.7691, -4.5645, 5.8006) [0.0512, 0.5239, 0.7236]\n",
       "PeriodicSite: O (0.7706, -1.6142, 1.1602) [0.0513, 0.0255, 0.2240]\n",
       "PeriodicSite: O (1.0070, -1.4716, 5.8028) [0.4471, 0.8742, 0.3742]\n",
       "PeriodicSite: O (1.5760, 0.0041, 3.4815) [0.5579, 0.6248, 0.1243]\n",
       "PeriodicSite: O (1.7835, -6.0410, 8.1249) [0.2493, 0.7737, 0.9738]\n",
       "PeriodicSite: O (1.7819, -3.0766, 3.5025) [0.2516, 0.2801, 0.4733]\n",
       "PeriodicSite: O (3.3256, -2.8232, 5.8006) [0.7464, 0.7209, 0.5271]\n",
       "PeriodicSite: O (3.3282, 0.1497, 1.1626) [0.7494, 0.2254, 0.0250]\n",
       "PeriodicSite: O (3.5732, -5.8938, 5.8059) [0.4482, 0.3745, 0.8743]\n",
       "PeriodicSite: O (4.1036, -4.4348, 3.5007) [0.5508, 0.1262, 0.6269]\n",
       "PeriodicSite: O (4.3360, -4.2885, 8.1388) [0.9459, 0.9745, 0.7765]\n",
       "PeriodicSite: O (4.3424, -1.3368, 3.4947) [0.9468, 0.4755, 0.2766]\n",
       "PeriodicSite: Li (2.5578, -4.4250, 6.9732) [0.5000, 0.7500, 0.7500]"
      ]
     },
     "execution_count": 13,
     "metadata": {},
     "output_type": "execute_result"
    }
   ],
   "source": [
    "a"
   ]
  },
  {
   "cell_type": "code",
   "execution_count": null,
   "metadata": {},
   "outputs": [],
   "source": []
  }
 ],
 "metadata": {
  "kernelspec": {
   "display_name": "Python 3",
   "language": "python",
   "name": "python3"
  },
  "language_info": {
   "codemirror_mode": {
    "name": "ipython",
    "version": 3
   },
   "file_extension": ".py",
   "mimetype": "text/x-python",
   "name": "python",
   "nbconvert_exporter": "python",
   "pygments_lexer": "ipython3",
   "version": "3.6.6"
  }
 },
 "nbformat": 4,
 "nbformat_minor": 2
}
